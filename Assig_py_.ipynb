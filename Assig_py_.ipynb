{
  "nbformat": 4,
  "nbformat_minor": 0,
  "metadata": {
    "colab": {
      "provenance": []
    },
    "kernelspec": {
      "name": "python3",
      "display_name": "Python 3"
    },
    "language_info": {
      "name": "python"
    }
  },
  "cells": [
    {
      "cell_type": "code",
      "execution_count": 5,
      "metadata": {
        "colab": {
          "base_uri": "https://localhost:8080/"
        },
        "id": "C00VY6s1deF0",
        "outputId": "a39dd7fa-268c-4856-d048-40558fd77ce0"
      },
      "outputs": [
        {
          "output_type": "stream",
          "name": "stdout",
          "text": [
            "Total Bill 290\n"
          ]
        }
      ],
      "source": [
        "# 1 a)\n",
        "\n",
        "store = {\n",
        "    'apple': 10,\n",
        "    'milk': 50,\n",
        "    'bread': 40\n",
        "}\n",
        "\n",
        "items_purchased = [\n",
        "    {'purchasedItem': 'apple', 'purchasedQuantities': 2},\n",
        "    {'purchasedItem': 'milk', 'purchasedQuantities': 3},\n",
        "    {'purchasedItem': 'bread', 'purchasedQuantities': 3}\n",
        "]\n",
        "# 1 b,c)\n",
        "def calculate_bill(items):\n",
        "  bill = 0;\n",
        "  for item in items:\n",
        "    perItemPriceWithQty = store[item['purchasedItem']] * item['purchasedQuantities']\n",
        "    bill = bill + perItemPriceWithQty\n",
        "  print('Total Bill', bill)\n",
        "\n",
        "calculate_bill(items_purchased)"
      ]
    },
    {
      "cell_type": "code",
      "source": [
        "#2\n",
        "subjectsMark =[15,50,80,85,90]\n",
        "\n",
        "def calculate_grade(marks):\n",
        "  avgOfMarks = sum(marks)/len(marks)\n",
        "  grade = ''\n",
        "\n",
        "  if avgOfMarks >= 90:\n",
        "    grade = 'A'\n",
        "  elif avgOfMarks >= 70:\n",
        "    grade = 'B'\n",
        "  elif avgOfMarks >= 50:\n",
        "    grade = 'C'\n",
        "  else:\n",
        "    grade = 'F'\n",
        "\n",
        "\n",
        "  print('Average :', avgOfMarks ,', Grade :', grade)\n",
        "\n",
        "\n",
        "\n",
        "calculate_grade(subjectsMark)\n",
        "\n"
      ],
      "metadata": {
        "colab": {
          "base_uri": "https://localhost:8080/"
        },
        "id": "IvTVNxadeilZ",
        "outputId": "a9fd125c-fac2-4889-9954-00b457ea8dd0"
      },
      "execution_count": 4,
      "outputs": [
        {
          "output_type": "stream",
          "name": "stdout",
          "text": [
            "Average : 64.0 , Grade : C\n"
          ]
        }
      ]
    },
    {
      "cell_type": "code",
      "source": [
        "#3\n",
        "avlbseats = list(range(1,21))\n",
        "enteredSeatNumber = input('Enter a seat number :')\n",
        "print(enteredSeatNumber)\n",
        "avlbseats.remove(int(enteredSeatNumber))\n",
        "print(avlbseats)"
      ],
      "metadata": {
        "colab": {
          "base_uri": "https://localhost:8080/"
        },
        "id": "RzAzuQnKeliN",
        "outputId": "2811ca5e-dbe5-4826-e7ac-155b07e88492"
      },
      "execution_count": 8,
      "outputs": [
        {
          "output_type": "stream",
          "name": "stdout",
          "text": [
            "Enter a seat number :5\n",
            "5\n",
            "[1, 2, 3, 4, 6, 7, 8, 9, 10, 11, 12, 13, 14, 15, 16, 17, 18, 19, 20]\n"
          ]
        }
      ]
    }
  ]
}